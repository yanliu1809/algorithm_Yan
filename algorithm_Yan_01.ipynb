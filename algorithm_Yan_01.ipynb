{
 "cells": [
  {
   "cell_type": "code",
   "execution_count": 2,
   "id": "c3a4a839",
   "metadata": {},
   "outputs": [],
   "source": [
    "# 53\n",
    "\n",
    "def maxSubArray(nums):\n",
    "    max_current = max_global = nums[0]\n",
    "    \n",
    "    for i in range(1, len(nums)):\n",
    "        max_current = max(nums[i], max_current + nums[i])\n",
    "        if max_current > max_global:\n",
    "            max_global = max_current\n",
    "    \n",
    "    return max_global\n",
    "\n",
    "# 为什么max_global要和0比较\n"
   ]
  },
  {
   "cell_type": "code",
   "execution_count": 13,
   "id": "8d6388bc",
   "metadata": {},
   "outputs": [
    {
     "name": "stdout",
     "output_type": "stream",
     "text": [
      "9\n",
      "6\n",
      "-2\n"
     ]
    }
   ],
   "source": [
    "nums = [-2,1,-3,4,-1,2,1,-5,4]\n",
    "print(len(nums))\n",
    "print(maxSubArray(nums))  # 输出 6\n",
    "print(nums[0])"
   ]
  },
  {
   "cell_type": "code",
   "execution_count": 5,
   "id": "94e9ae1d",
   "metadata": {},
   "outputs": [
    {
     "name": "stdout",
     "output_type": "stream",
     "text": [
      "1\n"
     ]
    }
   ],
   "source": [
    "nums = [1]\n",
    "print(maxSubArray(nums))  # 输出 1\n"
   ]
  },
  {
   "cell_type": "code",
   "execution_count": 6,
   "id": "1ff33feb",
   "metadata": {},
   "outputs": [
    {
     "name": "stdout",
     "output_type": "stream",
     "text": [
      "23\n"
     ]
    }
   ],
   "source": [
    "nums = [5,4,-1,7,8]\n",
    "print(maxSubArray(nums))  # 输出 23\n"
   ]
  },
  {
   "cell_type": "code",
   "execution_count": 12,
   "id": "5904257d",
   "metadata": {},
   "outputs": [
    {
     "name": "stdout",
     "output_type": "stream",
     "text": [
      "1\n",
      "2\n",
      "3\n",
      "4\n",
      "5\n",
      "6\n",
      "7\n",
      "8\n"
     ]
    }
   ],
   "source": [
    "for i in range(1, len(nums)):\n",
    "    print(i)"
   ]
  },
  {
   "cell_type": "code",
   "execution_count": null,
   "id": "5be3a1ea",
   "metadata": {},
   "outputs": [],
   "source": []
  },
  {
   "cell_type": "code",
   "execution_count": null,
   "id": "9b138184",
   "metadata": {},
   "outputs": [],
   "source": [
    "# 56\n",
    "\n",
    "def merge(intervals):\n",
    "    # 如果输入的区间列表为空，则直接返回空列表\n",
    "    if not intervals:\n",
    "        return []\n",
    "    \n",
    "    # 先按每个区间的起始点进行排序\n",
    "    intervals.sort(key=lambda x: x[0])\n",
    "    \n",
    "    # 用来存储合并后的区间\n",
    "    merged = []\n",
    "    \n",
    "    # 遍历排序后的区间\n",
    "    for interval in intervals:\n",
    "        # 如果 merged 为空，或者当前区间的起点大于 merged 中最后一个区间的终点，说明没有重叠，直接添加\n",
    "        if not merged or merged[-1][1] < interval[0]:\n",
    "            merged.append(interval)\n",
    "        else:\n",
    "            # 否则说明有重叠，需要合并区间\n",
    "            merged[-1][1] = max(merged[-1][1], interval[1])\n",
    "    \n",
    "    return merged\n"
   ]
  },
  {
   "cell_type": "code",
   "execution_count": null,
   "id": "0646c8e6",
   "metadata": {},
   "outputs": [],
   "source": []
  },
  {
   "cell_type": "code",
   "execution_count": null,
   "id": "f738023c",
   "metadata": {},
   "outputs": [],
   "source": [
    "# 189\n",
    "\n",
    "def rotate(nums, k):\n",
    "    # 1. 确保 k 不大于数组的长度，因为旋转数组的长度次等于原数组，所以取 k 对长度的模\n",
    "    k = k % len(nums)\n",
    "\n",
    "    # 2. 将数组的最后 k 个元素移动到最前面，前面的元素移到后面\n",
    "    # 例如 nums = [1,2,3,4,5,6,7], k = 3\n",
    "    # 切分为 [5,6,7] 和 [1,2,3,4]，合并后为 [5,6,7,1,2,3,4]\n",
    "    nums[:] = nums[-k:] + nums[:-k]\n",
    "\n",
    "# 示例调用：\n",
    "nums = [1, 2, 3, 4, 5, 6, 7]\n",
    "k = 3\n",
    "rotate(nums, k)\n",
    "print(nums)  # 输出: [5, 6, 7, 1, 2, 3, 4]\n"
   ]
  }
 ],
 "metadata": {
  "kernelspec": {
   "display_name": "Python 3 (ipykernel)",
   "language": "python",
   "name": "python3"
  },
  "language_info": {
   "codemirror_mode": {
    "name": "ipython",
    "version": 3
   },
   "file_extension": ".py",
   "mimetype": "text/x-python",
   "name": "python",
   "nbconvert_exporter": "python",
   "pygments_lexer": "ipython3",
   "version": "3.9.7"
  }
 },
 "nbformat": 4,
 "nbformat_minor": 5
}
